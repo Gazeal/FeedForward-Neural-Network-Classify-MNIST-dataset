{
 "cells": [
  {
   "cell_type": "code",
   "execution_count": 8,
   "metadata": {
    "collapsed": false
   },
   "outputs": [],
   "source": [
    "# Import neccessary module\n",
    "import time\n",
    "import numpy as np\n",
    "from matplotlib import pyplot as plt\n",
    "from keras.utils import np_utils\n",
    "import keras.callbacks as cb\n",
    "from keras.models import Sequential\n",
    "from keras.layers.core import Dense, Dropout, Activation\n",
    "from keras.optimizers import RMSprop\n",
    "from keras.datasets import mnist\n",
    "import timeit\n",
    "#Tắt ipynb warning\n",
    "import warnings\n",
    "warnings.filterwarnings('ignore')"
   ]
  },
  {
   "cell_type": "code",
   "execution_count": 9,
   "metadata": {
    "collapsed": true
   },
   "outputs": [],
   "source": [
    "#Ten fold split for validation\n",
    "def split_list(a_list):\n",
    "    ten_fold = len(a_list)/10\n",
    "    return a_list[ten_fold:], a_list[:ten_fold]"
   ]
  },
  {
   "cell_type": "code",
   "execution_count": 10,
   "metadata": {
    "collapsed": true
   },
   "outputs": [],
   "source": [
    "#History list for lost (incorrect) sample\n",
    "class LossHistory(cb.Callback):\n",
    "    def on_train_begin(self, logs={}):\n",
    "        self.losses = []\n",
    "\n",
    "    def on_batch_end(self, batch, logs={}):\n",
    "        batch_loss = logs.get('loss')\n",
    "        self.losses.append(batch_loss)"
   ]
  },
  {
   "cell_type": "code",
   "execution_count": 11,
   "metadata": {
    "collapsed": true
   },
   "outputs": [],
   "source": [
    "#Load mnist.pkl.gz data (handwritting digit)\n",
    "def load_data(data):\n",
    "    print ('Loading data...')\n",
    "    (X_train, y_train), (X_test, y_test) = mnist.load_data(path = data)\n",
    "    X_train, X_val = split_list(X_train)\n",
    "    y_train, y_val = split_list(y_train)\n",
    "    print(len(X_train))\n",
    "    print(len(X_test))\n",
    "    print(len(X_val))\n",
    "    X_train = X_train.astype('float32')\n",
    "    X_test = X_test.astype('float32')\n",
    "    X_val = X_val.astype('float32')\n",
    "    \n",
    "    X_train /= 255\n",
    "    X_test /= 255\n",
    "    X_val /= 255\n",
    "    \n",
    "    y_train = np_utils.to_categorical(y_train, 10)\n",
    "    y_test = np_utils.to_categorical(y_test, 10)\n",
    "    y_val = np_utils.to_categorical(y_val, 10)\n",
    "\n",
    "    X_train = np.reshape(X_train, (54000, 784))\n",
    "    X_test = np.reshape(X_test, (10000, 784))\n",
    "    X_val = np.reshape(X_val, (6000, 784))\n",
    "    \n",
    "    print ('Data loaded.')\n",
    "    return [X_train, X_test, X_val, y_train, y_test, y_val]"
   ]
  },
  {
   "cell_type": "code",
   "execution_count": 12,
   "metadata": {
    "collapsed": true
   },
   "outputs": [],
   "source": [
    "#Init Feed Forward Neural Network model use Keras\n",
    "#Some hyperparameter: Layer 1: 500 nodes, layer 2: 300 nodes, layer 3: 10 nodes (with ten case of classify)        \n",
    "def init_model():\n",
    "    start_time = time.time()\n",
    "    print ('Compiling Model ... ')\n",
    "    model = Sequential()\n",
    "    model.add(Dense(500, input_dim=784))\n",
    "    model.add(Activation('relu'))\n",
    "    model.add(Dropout(0.4))\n",
    "    model.add(Dense(300))\n",
    "    model.add(Activation('relu'))\n",
    "    model.add(Dropout(0.4))\n",
    "    model.add(Dense(10))\n",
    "    model.add(Activation('softmax'))\n",
    "\n",
    "    rms = RMSprop()\n",
    "    model.compile(loss='categorical_crossentropy', optimizer=rms, metrics=['accuracy'])\n",
    "    print ('Model compiled in {0} seconds'.format(time.time() - start_time))\n",
    "    return model"
   ]
  },
  {
   "cell_type": "code",
   "execution_count": 18,
   "metadata": {
    "collapsed": false
   },
   "outputs": [],
   "source": [
    "#Run model (include: fit model, test accuracy)\n",
    "#Some hyperparameter: epochs=20, batch=256\n",
    "def run_network(data=None, model=None, epochs=20, batch=256):\n",
    "    try:\n",
    "        start_time = time.time()\n",
    "        if data is None:\n",
    "            X_train, X_test, X_val, y_train, y_test, y_val = load_data('mnist.pkl.gz')\n",
    "        else:\n",
    "            X_train, X_test, X_val, y_train, y_test, y_val = data\n",
    "\n",
    "        if model is None:\n",
    "            model = init_model()\n",
    "\n",
    "        history = LossHistory()\n",
    "\n",
    "        print ('Training model...')\n",
    "        model.fit(X_train, y_train, nb_epoch=epochs, batch_size=batch,\n",
    "                  callbacks=[history],\n",
    "                  validation_data=(X_val, y_val), verbose=2)\n",
    "\n",
    "        print (\"Training duration : {0}\".format(time.time() - start_time))\n",
    "        print ('Testing...')\n",
    "        score = model.evaluate(X_test, y_test, batch_size=16)\n",
    "        print (\"\\nNetwork's test score [loss, accuracy]: {0}\".format(score))\n",
    "    except KeyboardInterrupt:\n",
    "        print (' KeyboardInterrupt')"
   ]
  },
  {
   "cell_type": "code",
   "execution_count": 19,
   "metadata": {
    "collapsed": false
   },
   "outputs": [
    {
     "name": "stdout",
     "output_type": "stream",
     "text": [
      "Loading data...\n",
      "54000\n",
      "10000\n",
      "6000\n",
      "Data loaded.\n",
      "Compiling Model ... \n",
      "Model compield in 0.1308126449584961 seconds\n",
      "Training model...\n",
      "Train on 54000 samples, validate on 6000 samples\n",
      "Epoch 1/20\n",
      "8s - loss: 0.3766 - acc: 0.8842 - val_loss: 0.1360 - val_acc: 0.9615\n",
      "Epoch 2/20\n",
      "8s - loss: 0.1637 - acc: 0.9505 - val_loss: 0.1019 - val_acc: 0.9688\n",
      "Epoch 3/20\n",
      "8s - loss: 0.1196 - acc: 0.9643 - val_loss: 0.0871 - val_acc: 0.9738\n",
      "Epoch 4/20\n",
      "7s - loss: 0.0948 - acc: 0.9701 - val_loss: 0.0726 - val_acc: 0.9792\n",
      "Epoch 5/20\n",
      "7s - loss: 0.0831 - acc: 0.9750 - val_loss: 0.0754 - val_acc: 0.9785\n",
      "Epoch 6/20\n",
      "7s - loss: 0.0723 - acc: 0.9782 - val_loss: 0.0684 - val_acc: 0.9797\n",
      "Epoch 7/20\n",
      "7s - loss: 0.0663 - acc: 0.9804 - val_loss: 0.0694 - val_acc: 0.9810\n",
      "Epoch 8/20\n",
      "8s - loss: 0.0589 - acc: 0.9820 - val_loss: 0.0729 - val_acc: 0.9803\n",
      "Epoch 9/20\n",
      "8s - loss: 0.0565 - acc: 0.9835 - val_loss: 0.0757 - val_acc: 0.9790\n",
      "Epoch 10/20\n",
      "8s - loss: 0.0505 - acc: 0.9848 - val_loss: 0.0645 - val_acc: 0.9835\n",
      "Epoch 11/20\n",
      "8s - loss: 0.0457 - acc: 0.9855 - val_loss: 0.0728 - val_acc: 0.9802\n",
      "Epoch 12/20\n",
      "8s - loss: 0.0421 - acc: 0.9870 - val_loss: 0.0798 - val_acc: 0.9795\n",
      "Epoch 13/20\n",
      "7s - loss: 0.0416 - acc: 0.9871 - val_loss: 0.0711 - val_acc: 0.9822\n",
      "Epoch 14/20\n",
      "7s - loss: 0.0398 - acc: 0.9878 - val_loss: 0.0804 - val_acc: 0.9815\n",
      "Epoch 15/20\n",
      "8s - loss: 0.0377 - acc: 0.9883 - val_loss: 0.0742 - val_acc: 0.9842\n",
      "Epoch 16/20\n",
      "8s - loss: 0.0364 - acc: 0.9886 - val_loss: 0.0785 - val_acc: 0.9822\n",
      "Epoch 17/20\n",
      "8s - loss: 0.0330 - acc: 0.9895 - val_loss: 0.0757 - val_acc: 0.9833\n",
      "Epoch 18/20\n",
      "7s - loss: 0.0332 - acc: 0.9905 - val_loss: 0.0723 - val_acc: 0.9838\n",
      "Epoch 19/20\n",
      "7s - loss: 0.0312 - acc: 0.9901 - val_loss: 0.0814 - val_acc: 0.9827\n",
      "Epoch 20/20\n",
      "7s - loss: 0.0273 - acc: 0.9912 - val_loss: 0.0880 - val_acc: 0.9823\n",
      "Training duration : 162.07960176467896\n",
      "Testing...\n",
      " 9936/10000 [============================>.] - ETA: 0s\n",
      "Network's test score [loss, accuracy]: [0.088191314761399756, 0.98309999999999997]\n"
     ]
    }
   ],
   "source": [
    "#Start all\n",
    "run_network()"
   ]
  }
 ],
 "metadata": {
  "anaconda-cloud": {},
  "kernelspec": {
   "display_name": "Python [conda root]",
   "language": "python",
   "name": "conda-root-py"
  },
  "language_info": {
   "codemirror_mode": {
    "name": "ipython",
    "version": 3
   },
   "file_extension": ".py",
   "mimetype": "text/x-python",
   "name": "python",
   "nbconvert_exporter": "python",
   "pygments_lexer": "ipython3",
   "version": "3.5.2"
  }
 },
 "nbformat": 4,
 "nbformat_minor": 0
}
